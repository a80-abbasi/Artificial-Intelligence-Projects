{
  "cells": [
    {
      "cell_type": "markdown",
      "metadata": {
        "id": "d98O4vjubJ3j"
      },
      "source": [
        "<div align=center>\n",
        "\t\t\n",
        "<p></p>\n",
        "<p></p>\n",
        "<font size=5>\n",
        "In the Name of God\n",
        "<font/>\n",
        "<p></p>\n",
        " <br/>\n",
        "    <br/>\n",
        "    <br/>\n",
        "<font color=#FF7500>\n",
        "Sharif University of Technology - Departmenet of Computer Engineering\n",
        "</font>\n",
        "<p></p>\n",
        "<font color=blue>\n",
        "Artifical Intelligence - Dr. Mohammad Hossein Rohban\n",
        "</font>\n",
        "<br/>\n",
        "<br/>\n",
        "Fall 2021\n",
        "\n",
        "</div>\n",
        "\n",
        "<hr/>\n",
        "\t\t<div align=center>\n",
        "\t\t    <font color=red size=6>\n",
        "\t\t\t    <br />\n",
        "Practical Assignment 4 Pytorch Classification\n",
        "            \t<br/>\n",
        "\t\t\t</font>\n",
        "    <br/>\n",
        "    <br/>\n",
        "<font size=4>\n",
        "                <br/><b>\n",
        "              Cheating is Strongly Prohibited\n",
        "                </b><br/><br/>\n",
        "                <font color=red>\n",
        "Please run all the cells.\n",
        "     </font>\n",
        "</font>\n",
        "                <br/>\n",
        "    </div>"
      ]
    },
    {
      "cell_type": "markdown",
      "metadata": {
        "id": "Vc56RQq_bJ3p"
      },
      "source": [
        "# Personal Data"
      ]
    },
    {
      "cell_type": "code",
      "execution_count": 1,
      "metadata": {
        "collectable": true,
        "execution": {
          "iopub.execute_input": "2021-10-01T16:01:36.762477Z",
          "iopub.status.busy": "2021-10-01T16:01:36.762155Z",
          "iopub.status.idle": "2021-10-01T16:01:36.764025Z",
          "shell.execute_reply": "2021-10-01T16:01:36.763754Z"
        },
        "id": "tODT3Ai9bJ3q"
      },
      "outputs": [],
      "source": [
        "# Set your student number\n",
        "student_number = 98105879\n",
        "Name = 'Ali'\n",
        "Last_Name = 'Abbasi'"
      ]
    },
    {
      "cell_type": "markdown",
      "metadata": {
        "id": "j36cYwxIbJ3r"
      },
      "source": [
        "# Rules\n",
        "- You **are** allowed to add or remove cells. \n",
        "- By running the cell below, you can see if your jupyter file is accepted or not. This cell will also **generate a python file which you'll have to upload to Quera** (as well as your jupyter file). The python file will later be validated and if the code in both files doesn't match, **your Practical Assignment won't be graded**."
      ]
    },
    {
      "cell_type": "code",
      "execution_count": 15,
      "metadata": {
        "id": "MxF-SCt7bJ3s",
        "outputId": "75a7102d-e004-4992-8e91-b89e6b7544d3"
      },
      "outputs": [
        {
          "name": "stdout",
          "output_type": "stream",
          "text": [
            "your file will be graded\n"
          ]
        }
      ],
      "source": [
        "# remember to save your jupyter file before running this script\n",
        "from Helper_codes.validator import *\n",
        "\n",
        "python_code = extract_python(\"./Q2.ipynb\")\n",
        "with open(f'python_code_Q2_{student_number}.py', 'w') as file:\n",
        "    file.write(python_code)"
      ]
    },
    {
      "cell_type": "markdown",
      "metadata": {
        "id": "Fa1McbDhbJ3s"
      },
      "source": [
        "# PyTorch & MNIST Classification (50 points+5 Extra)"
      ]
    },
    {
      "cell_type": "markdown",
      "metadata": {
        "id": "sSeuI5X2bJ3t"
      },
      "source": [
        "<font size=4>\n",
        "Author: Arman Zarei\n",
        "\t\t\t<br/>\n",
        "                <font color=red>\n",
        "Please run all the cells.\n",
        "     </font>\n",
        "</font>\n",
        "                <br/>\n",
        "    </div>"
      ]
    },
    {
      "cell_type": "markdown",
      "metadata": {
        "id": "hpgcA5aVbhvr"
      },
      "source": [
        "In this assignment, you are going to learn the fundamentals of PyTorch and implement a classifier network for MNIST dataset. You can read about more details of PyTorch components from [this link](https://pytorch.org/tutorials)."
      ]
    },
    {
      "cell_type": "markdown",
      "metadata": {
        "id": "eWerEtmwcjDW"
      },
      "source": [
        "### Setup"
      ]
    },
    {
      "cell_type": "code",
      "execution_count": 3,
      "metadata": {
        "id": "WB1qWR7ycyhk"
      },
      "outputs": [],
      "source": [
        "import torch\n",
        "from torchvision import datasets\n",
        "import matplotlib.pyplot as plt\n",
        "import numpy as np\n",
        "import torchvision.transforms as transforms\n",
        "import os\n",
        "from torch.utils.data import Dataset, DataLoader, random_split\n",
        "import torch.nn as nn\n",
        "import torch.nn.functional as F\n",
        "# changed line below\n",
        "from Helper_codes.ae_helper import init_mnist_subset_directories"
      ]
    },
    {
      "cell_type": "code",
      "execution_count": 4,
      "metadata": {
        "colab": {
          "base_uri": "https://localhost:8080/"
        },
        "id": "Xl50MioBdFpk",
        "outputId": "06be9ab2-ca6a-48f4-8188-80fe0be7a1d2"
      },
      "outputs": [
        {
          "data": {
            "text/plain": [
              "device(type='cpu')"
            ]
          },
          "execution_count": 4,
          "metadata": {},
          "output_type": "execute_result"
        }
      ],
      "source": [
        "device = torch.device('cuda' if torch.cuda.is_available() else 'cpu')\n",
        "device"
      ]
    },
    {
      "cell_type": "markdown",
      "metadata": {
        "id": "wx59hwkqj0RD"
      },
      "source": [
        "#### Loading dataset"
      ]
    },
    {
      "cell_type": "code",
      "execution_count": 5,
      "metadata": {
        "id": "YDdS3sikj1xB"
      },
      "outputs": [],
      "source": [
        "mnist_dataset = datasets.MNIST(root='data', train=True, download=True, transform=transforms.ToTensor())"
      ]
    },
    {
      "cell_type": "markdown",
      "metadata": {
        "id": "USPO44OldQSB"
      },
      "source": [
        "## Autograd"
      ]
    },
    {
      "cell_type": "markdown",
      "metadata": {
        "id": "UZ3MTvqldpmz"
      },
      "source": [
        "Autograd is PyTorch's automatic differentiation engine that powers neural network training. In essence it helps us to calculate derivatives and updating parameters. To read more about Autograd and Computational Graph visit [this link](https://pytorch.org/tutorials/beginner/blitz/autograd_tutorial.html)\n",
        "\n",
        "Let us define two parameters: $p_1$ and $p_2$. "
      ]
    },
    {
      "cell_type": "code",
      "execution_count": null,
      "metadata": {
        "id": "fyMHSBA7eg1P"
      },
      "outputs": [],
      "source": [
        "p1 = torch.tensor([3.], requires_grad=True)\n",
        "p2 = torch.tensor([7.], requires_grad=True)"
      ]
    },
    {
      "cell_type": "markdown",
      "metadata": {
        "id": "3clMbGmyesLk"
      },
      "source": [
        "Now define a variable $L$ as below:\n",
        "\n",
        "$L = 3 \\times p_1^3 - 7 \\times p_2^2 + sin(p1) \\times p_2^2$"
      ]
    },
    {
      "cell_type": "code",
      "execution_count": null,
      "metadata": {
        "collectable": true,
        "id": "Q6Rf3tc5bJ3u",
        "outputId": "c98c56d1-1459-4da5-a13a-efe0023624d3"
      },
      "outputs": [
        {
          "data": {
            "text/plain": [
              "tensor([-255.0851], grad_fn=<AddBackward0>)"
            ]
          },
          "execution_count": 6,
          "metadata": {},
          "output_type": "execute_result"
        }
      ],
      "source": [
        "L = 3 * p1 ** 3 - 7 * p2 ** 2 + torch.sin(p1) * p2 ** 2\n",
        "L"
      ]
    },
    {
      "cell_type": "markdown",
      "metadata": {
        "id": "yVEaM66zfI_r"
      },
      "source": [
        "Now you have to calculate the gradient of $p_1$ and $p_2$ with respect to $L$. First do it by hand and write the mathematical expression in the below cell both for $p_1$ and $p_2$. Then evaluate them at $3$ and $7$ (acording to the initialization)"
      ]
    },
    {
      "cell_type": "markdown",
      "metadata": {
        "id": "6AK61RzngBya"
      },
      "source": [
        "Place your expressions here\n",
        "\n",
        "\n",
        "$\\frac{dL}{dp_1} = 9 \\times p_1^2 + \\cos(p_1) \\times p_2^2$ \n",
        "\n",
        "$\\frac{dL}{dp_2} = -14 \\times p_2 + 2 \\times \\sin(p_1) \\times p_2$\n",
        "\n",
        "$\\frac{dL}{dp_1}(3, 7) = 32.49$\n",
        "\n",
        "$\\frac{dL}{dp_2}(3, 7) = -96.02$"
      ]
    },
    {
      "cell_type": "code",
      "execution_count": null,
      "metadata": {
        "id": "H8J9pEWYhQ7-",
        "outputId": "0b741bc7-138b-410d-fa44-86a83002987b"
      },
      "outputs": [
        {
          "data": {
            "text/plain": [
              "(32.49036766657817, -96.02431988716187)"
            ]
          },
          "execution_count": 13,
          "metadata": {},
          "output_type": "execute_result"
        }
      ],
      "source": [
        "def dL_dp1(p1, p2):\n",
        "    return 9 * p1 ** 2 + np.cos(p1) * p2 ** 2\n",
        "\n",
        "def dL_dp2(p1, p2):\n",
        "    return -14 * p2 + 2 * np.sin(p1) * p2\n",
        "\n",
        "dL_dp1(3, 7), dL_dp2(3, 7)"
      ]
    },
    {
      "cell_type": "markdown",
      "metadata": {
        "id": "vfnbUWe9jDN_"
      },
      "source": [
        "Now let's calculate this using pytorch. The below code will construct the computational graph and stores the gradient of each variable inside of it."
      ]
    },
    {
      "cell_type": "code",
      "execution_count": null,
      "metadata": {
        "id": "JHOUb91BfSLV"
      },
      "outputs": [],
      "source": [
        "L.backward()"
      ]
    },
    {
      "cell_type": "markdown",
      "metadata": {
        "id": "DPlm6Y-WjdqQ"
      },
      "source": [
        "Check whether the result of your calculations is the same with the autograd's output."
      ]
    },
    {
      "cell_type": "code",
      "execution_count": null,
      "metadata": {
        "colab": {
          "base_uri": "https://localhost:8080/"
        },
        "id": "dTATg0EXfemL",
        "outputId": "36d5090d-89b1-4107-b626-b71bd8c915f0"
      },
      "outputs": [
        {
          "name": "stdout",
          "output_type": "stream",
          "text": [
            "P_1 grad: 32.4903678894043\n",
            "P_2 grad: -96.02432250976562\n"
          ]
        }
      ],
      "source": [
        "print(f\"P_1 grad: {p1.grad.item()}\\nP_2 grad: {p2.grad.item()}\")"
      ]
    },
    {
      "cell_type": "markdown",
      "metadata": {
        "id": "Y0dmM050TEkQ"
      },
      "source": [
        "They're the same."
      ]
    },
    {
      "cell_type": "markdown",
      "metadata": {
        "id": "bnNZl6e6jpqt"
      },
      "source": [
        "## Transform "
      ]
    },
    {
      "cell_type": "markdown",
      "metadata": {
        "id": "LU7tlE9JkdPq"
      },
      "source": [
        "Data does not always come in its final processed form that is required for training machine learning algorithms. We use transforms to perform some manipulation of the data and make it suitable for training. For more details, you can read [this link](https://pytorch.org/vision/stable/transforms.html)\n",
        "\n",
        "There are many transformations that are already implemented inside pytorch that you can use. Here we are going to implement some transformation from scratch using PyTorch's framework."
      ]
    },
    {
      "cell_type": "markdown",
      "metadata": {
        "id": "axRueoKYkrq2"
      },
      "source": [
        "#### Random Horizontal Flip Transformation"
      ]
    },
    {
      "cell_type": "markdown",
      "metadata": {
        "id": "VWJaLIkgl6im"
      },
      "source": [
        "Define a transformation that flips the image (horizontally) with probability of $p$. In order to implement a simple transformation class, you need to have two methods: `__init__` and `__call__` (which receives the image)"
      ]
    },
    {
      "cell_type": "code",
      "execution_count": 6,
      "metadata": {
        "id": "tpVu037dkqGW"
      },
      "outputs": [],
      "source": [
        "class RandomHorizontalFlip(object):\n",
        "    def __init__(self, p=0.5):\n",
        "        self.p = p\n",
        "  \n",
        "    def __call__(self, x):\n",
        "        if np.random.choice([True, False], p=[self.p, 1- self.p]):\n",
        "            return torch.flip(x, dims=[x.ndim - 1])\n",
        "        else:\n",
        "            return x"
      ]
    },
    {
      "cell_type": "markdown",
      "metadata": {
        "id": "p7kC6zOOmraA"
      },
      "source": [
        "#### Random Color Swap"
      ]
    },
    {
      "cell_type": "markdown",
      "metadata": {
        "id": "LcFPotJVmzha"
      },
      "source": [
        "Now that you have learned how to implement a transformation class, let's build another one. Define a transformation which swaps the colors (in the gray scale image) with probability of $p$. For example, if the given image had a white colored number with a black background, it should output an image with black colored number and a white background.\n",
        "\n",
        "**Hint:** for a given input $x$, you can concider the swapped color version of it as $x_{new} = m - x$ where $m$ is the maximum value in image $x$"
      ]
    },
    {
      "cell_type": "code",
      "execution_count": 7,
      "metadata": {
        "id": "5_4W0QeDmxrZ"
      },
      "outputs": [],
      "source": [
        "# Place your code here (5 Points)\n",
        "class RandomColorSwap(object):\n",
        "\n",
        "    def __call__(self, x):\n",
        "        return torch.max(x) - x"
      ]
    },
    {
      "cell_type": "markdown",
      "metadata": {
        "id": "6sO1GAmQn-D_"
      },
      "source": [
        "### Evaluation of transformations"
      ]
    },
    {
      "cell_type": "markdown",
      "metadata": {
        "id": "gU8dglTeoCSq"
      },
      "source": [
        "Now, let's apply these transformations on some images of our dataset. You can stack different transformation using `Compose`"
      ]
    },
    {
      "cell_type": "code",
      "execution_count": 8,
      "metadata": {
        "id": "HhU0pqttoBC7"
      },
      "outputs": [],
      "source": [
        "trans = transforms.Compose([\n",
        "  RandomHorizontalFlip(p=0.7),\n",
        "  RandomColorSwap()\n",
        "])"
      ]
    },
    {
      "cell_type": "code",
      "execution_count": 9,
      "metadata": {
        "id": "WjTBM5N8oMJQ",
        "outputId": "691d1ab2-a72d-43d9-9718-918f8f296637"
      },
      "outputs": [
        {
          "data": {
            "image/png": "[encoded data removed]",
            "text/plain": [
              "<Figure size 1800x360 with 20 Axes>"
            ]
          },
          "metadata": {},
          "output_type": "display_data"
        }
      ],
      "source": [
        "num_imgs = 10\n",
        "fig, axs = plt.subplots(2, num_imgs, figsize=(25, 5))\n",
        "for i, idx in enumerate(torch.randint(0, len(mnist_dataset), [num_imgs])):\n",
        "    x, y = mnist_dataset[idx]\n",
        "    axs[0, i].imshow(x[0], cmap='gray')\n",
        "    axs[1, i].imshow(trans(x)[0], cmap='gray')\n",
        "    for k in range(2):\n",
        "        axs[k, i].set_yticks([])\n",
        "        axs[k, i].set_xticks([])\n",
        "        \n",
        "axs[0, 0].set_ylabel(\"Original\")\n",
        "axs[1, 0].set_ylabel(\"Transformed\");"
      ]
    },
    {
      "cell_type": "markdown",
      "metadata": {
        "id": "nrl6OhN_osOd"
      },
      "source": [
        "What we expect to see is that, some of them are fliped horizontally, some swapped in color, and some both."
      ]
    },
    {
      "cell_type": "markdown",
      "metadata": {
        "id": "6f3K_sOxpG3V"
      },
      "source": [
        "## Dataset"
      ]
    },
    {
      "cell_type": "markdown",
      "metadata": {
        "id": "sYh7GBGPpQhU"
      },
      "source": [
        "In this section, we are going to implement a dataset class. Inside `torchvision.datasets` there are many Datasets that are already implemented and ready to use. But, in many situations it's necessary to implement one by your self."
      ]
    },
    {
      "cell_type": "markdown",
      "metadata": {
        "id": "JqQjsiGTrW8l"
      },
      "source": [
        "Run the below cell to initialize our dataset"
      ]
    },
    {
      "cell_type": "code",
      "execution_count": null,
      "metadata": {
        "colab": {
          "base_uri": "https://localhost:8080/"
        },
        "id": "FztDAwMxrLRx",
        "outputId": "570cfceb-fe55-4b21-8394-6f9843a5b8b3"
      },
      "outputs": [],
      "source": [
        "dataset_path = \"new_mnist\"\n",
        "init_mnist_subset_directories(mnist_dataset, dataset_path)"
      ]
    },
    {
      "cell_type": "markdown",
      "metadata": {
        "id": "7iYvcVlhrmmk"
      },
      "source": [
        "If you take a look at `new_mnist` directory which is created in the directory you are working in, you see that it contains 10 folders with names from `0` to `9` indicating the label of the images inside it. Inside each, some files with name `data_{number}.pth` exist. Each `.pth` file is an image.\n",
        "\n",
        "Now you have to implement a Dataset on top of these files.\n",
        "The methods that you should implement in a Dataset (as you can see in the code) is as described below:\n",
        "- `__init__`: In our example assume that it only accepts `root_dir` and `transform` as it's parameters (You should apply the transformations before outputing the data)\n",
        "- `__len__`: Should return the number of data in your dataset\n",
        "- `__getitem__`: which receives an index, should return the data at the given index (which is a tuple here, containing image and the corresponding label) "
      ]
    },
    {
      "cell_type": "code",
      "execution_count": 11,
      "metadata": {
        "id": "RixD6z30qt1o"
      },
      "outputs": [],
      "source": [
        "class MNISTDataset(Dataset):\n",
        "    def __init__(self, root_dir, transform):\n",
        "        self.root = root_dir\n",
        "        self.transform = transform\n",
        "        self.size = sum([len(files) for r, d, files in os.walk(self.root)])\n",
        "        self.classes = np.zeros(self.size, dtype=int)\n",
        "        for y in os.listdir(self.root):\n",
        "            for x in os.listdir(os.path.join(self.root, y)):\n",
        "                idx = int(x[x.index('_') + 1: x.index('.')])\n",
        "                self.classes[idx] = int(y)\n",
        "\n",
        "    def __len__(self):\n",
        "        return self.size\n",
        "        \n",
        "    def __getitem__(self, idx):\n",
        "        y = self.classes[idx]\n",
        "        return self.transform(torch.load(os.path.join(self.root, str(y), f'data_{idx}.pth'))), y\n"
      ]
    },
    {
      "cell_type": "markdown",
      "metadata": {
        "id": "ObSdu-MwuYJK"
      },
      "source": [
        "After you defined your dataset, let's use it."
      ]
    },
    {
      "cell_type": "code",
      "execution_count": 12,
      "metadata": {
        "id": "YctASmSEuiqG",
        "outputId": "7137367c-a590-452e-f4e0-c88b18d9f2eb"
      },
      "outputs": [
        {
          "data": {
            "text/plain": [
              "5000"
            ]
          },
          "execution_count": 12,
          "metadata": {},
          "output_type": "execute_result"
        }
      ],
      "source": [
        "my_dataset = MNISTDataset(root_dir=dataset_path, transform=RandomColorSwap())\n",
        "len(my_dataset)"
      ]
    },
    {
      "cell_type": "markdown",
      "metadata": {
        "id": "VMTt5b4wvWik"
      },
      "source": [
        "Visualize 10 samples (randomely) from your dataset with their labels"
      ]
    },
    {
      "cell_type": "code",
      "execution_count": 14,
      "metadata": {
        "id": "nWMmwUvjudSr",
        "outputId": "62884f29-ee67-4d7f-dd99-be744b0bff39"
      },
      "outputs": [
        {
          "data": {
            "image/png": "[encoded data removed]",
            "text/plain": [
              "<Figure size 720x360 with 10 Axes>"
            ]
          },
          "metadata": {},
          "output_type": "display_data"
        }
      ],
      "source": [
        "fig, axes = plt.subplots(2, 5, figsize=(10, 5))\n",
        "for idx, ax in zip(np.random.choice(len(my_dataset), 10, replace=False), axes.flat):\n",
        "    img, label = my_dataset[idx]\n",
        "    ax.imshow(img.squeeze(), cmap='gray')\n",
        "    ax.set_xlabel(f'label = {label}')\n",
        "    ax.set_xticks([])\n",
        "    ax.set_yticks([])"
      ]
    },
    {
      "cell_type": "markdown",
      "metadata": {
        "id": "qKWNRCGuwDpf"
      },
      "source": [
        "## MNIST Classification"
      ]
    },
    {
      "cell_type": "markdown",
      "metadata": {
        "id": "DQ8QfxCnzESu"
      },
      "source": [
        "### Model\n",
        "Define your model (Based on what you have learned in the workshop). I highly encourage you to try different models with different layers in order to achieve a better accuracy\n",
        "\n",
        "**Notice:** You cannot use convolution layers in your model "
      ]
    },
    {
      "cell_type": "code",
      "execution_count": 50,
      "metadata": {
        "id": "2rpkLTDazDgl"
      },
      "outputs": [],
      "source": [
        "class DigitRecognizer(nn.Module):\n",
        "    def __init__(self, h1=512, h2=256):\n",
        "        super(DigitRecognizer, self).__init__()\n",
        "        self.fc1 = nn.Linear(784, h1)\n",
        "        self.fc2 = nn.Linear(h1, h2)\n",
        "        self.fc3 = nn.Linear(h2, 10)\n",
        "        self.droput = nn.Dropout(0.5)\n",
        "        \n",
        "    def forward(self,x):\n",
        "        x = x.view(-1, 28*28)\n",
        "        x = F.relu(self.fc1(x))\n",
        "        x = self.droput(x)\n",
        "        x = F.relu(self.fc2(x))\n",
        "        x = self.droput(x)\n",
        "        x = self.fc3(x)\n",
        "        return x"
      ]
    },
    {
      "cell_type": "code",
      "execution_count": 51,
      "metadata": {
        "colab": {
          "base_uri": "https://localhost:8080/"
        },
        "id": "rVXXfXBvzwY3",
        "outputId": "955314dd-c799-4511-8f6e-e4a0b32d1a9c"
      },
      "outputs": [
        {
          "data": {
            "text/plain": [
              "DigitRecognizer(\n",
              "  (fc1): Linear(in_features=784, out_features=512, bias=True)\n",
              "  (fc2): Linear(in_features=512, out_features=256, bias=True)\n",
              "  (fc3): Linear(in_features=256, out_features=10, bias=True)\n",
              "  (droput): Dropout(p=0.5, inplace=False)\n",
              ")"
            ]
          },
          "execution_count": 51,
          "metadata": {},
          "output_type": "execute_result"
        }
      ],
      "source": [
        "model = DigitRecognizer().to(device)\n",
        "model"
      ]
    },
    {
      "cell_type": "markdown",
      "metadata": {
        "id": "29ekb8vBz06M"
      },
      "source": [
        "### Dataset and Dataloader"
      ]
    },
    {
      "cell_type": "markdown",
      "metadata": {
        "id": "UIJbRn7C0MXI"
      },
      "source": [
        "Prepare datasets and dataloader for train/test. We use MNIST dataset that is already implemented inside `torchvision.datasets`.\n",
        "\n",
        " You need to split the `mnist_dataset` into `train_dataset` and `val_dataset`. \n",
        " \n",
        " You can also define more transformations that you think it would help the training process **(Optional)**."
      ]
    },
    {
      "cell_type": "code",
      "execution_count": 52,
      "metadata": {
        "id": "OGASwi3AzzZV"
      },
      "outputs": [],
      "source": [
        "from torch.utils.data.sampler import SubsetRandomSampler\n",
        "transform_compose = transforms.Compose([\n",
        "    transforms.ToTensor()\n",
        "])\n",
        "\n",
        "mnist_dataset = datasets.MNIST(root='dataset', train=True, download=True, transform=transform_compose)\n",
        "\n",
        "\n",
        "train_size = int(0.8 * len(mnist_dataset))\n",
        "val_size = len(mnist_dataset) - train_size\n",
        "train_dataset, val_dataset = torch.utils.data.random_split(mnist_dataset, (train_size, val_size))\n",
        "\n",
        "test_dataset = datasets.MNIST(root='dataset', train=False, download=True, transform=transforms.ToTensor())\n",
        "\n",
        "train_loader = DataLoader(dataset=train_dataset, batch_size=32, shuffle=True)\n",
        "val_loader = DataLoader(dataset=val_dataset, batch_size=32, shuffle=False)\n",
        "test_loader = DataLoader(dataset=test_dataset, batch_size=len(test_dataset.data), shuffle=False)"
      ]
    },
    {
      "cell_type": "markdown",
      "metadata": {
        "id": "8_knAsJK1eoL"
      },
      "source": [
        "### Criterion and Optimizer"
      ]
    },
    {
      "cell_type": "markdown",
      "metadata": {
        "id": "hCwVvh7v1mPy"
      },
      "source": [
        "you have to tune the `learning_rate` yourself (Based on your training process)"
      ]
    },
    {
      "cell_type": "code",
      "execution_count": 53,
      "metadata": {
        "id": "3AiRenXy1jJO"
      },
      "outputs": [],
      "source": [
        "criterion = nn.CrossEntropyLoss()\n",
        "learning_rate = 0.001\n",
        "optimizer = torch.optim.Adam(model.parameters(), lr=learning_rate)"
      ]
    },
    {
      "cell_type": "markdown",
      "metadata": {
        "id": "4c9K1Hlf12UF"
      },
      "source": [
        "### Train your model"
      ]
    },
    {
      "cell_type": "markdown",
      "metadata": {
        "id": "urJ44vOA2Exl"
      },
      "source": [
        "Write your training/validation loop in the following cell for an arbitrary number of epochs (until convergence is detected). You also need to store train/validation loss at each epoch in order to visualize them the after training is done."
      ]
    },
    {
      "cell_type": "code",
      "execution_count": 54,
      "metadata": {
        "colab": {
          "base_uri": "https://localhost:8080/"
        },
        "id": "lyCVVo742PPQ",
        "outputId": "0f6652a4-7b52-42e4-cdcf-03bdad5bac72"
      },
      "outputs": [
        {
          "name": "stdout",
          "output_type": "stream",
          "text": [
            "[Epoch 0]\tTrain Loss: 0.3416\tValidation Loss: 0.1550\n",
            "[Epoch 1]\tTrain Loss: 0.1805\tValidation Loss: 0.1060\n",
            "[Epoch 2]\tTrain Loss: 0.1448\tValidation Loss: 0.1032\n",
            "[Epoch 3]\tTrain Loss: 0.1280\tValidation Loss: 0.0878\n",
            "[Epoch 4]\tTrain Loss: 0.1185\tValidation Loss: 0.0825\n",
            "[Epoch 5]\tTrain Loss: 0.1085\tValidation Loss: 0.0795\n",
            "[Epoch 6]\tTrain Loss: 0.1026\tValidation Loss: 0.0761\n",
            "[Epoch 7]\tTrain Loss: 0.0990\tValidation Loss: 0.0803\n",
            "[Epoch 8]\tTrain Loss: 0.0952\tValidation Loss: 0.0802\n",
            "[Epoch 9]\tTrain Loss: 0.0860\tValidation Loss: 0.0719\n",
            "[Epoch 10]\tTrain Loss: 0.0897\tValidation Loss: 0.0677\n",
            "[Epoch 11]\tTrain Loss: 0.0808\tValidation Loss: 0.0729\n",
            "[Epoch 12]\tTrain Loss: 0.0802\tValidation Loss: 0.0793\n",
            "[Epoch 13]\tTrain Loss: 0.0805\tValidation Loss: 0.0761\n",
            "[Epoch 14]\tTrain Loss: 0.0722\tValidation Loss: 0.0742\n",
            "[Epoch 15]\tTrain Loss: 0.0739\tValidation Loss: 0.0810\n",
            "[Epoch 16]\tTrain Loss: 0.0687\tValidation Loss: 0.0788\n",
            "[Epoch 17]\tTrain Loss: 0.0727\tValidation Loss: 0.0734\n",
            "[Epoch 18]\tTrain Loss: 0.0695\tValidation Loss: 0.0799\n",
            "[Epoch 19]\tTrain Loss: 0.0657\tValidation Loss: 0.0769\n",
            "[Epoch 20]\tTrain Loss: 0.0694\tValidation Loss: 0.0776\n",
            "[Epoch 21]\tTrain Loss: 0.0678\tValidation Loss: 0.0762\n",
            "[Epoch 22]\tTrain Loss: 0.0660\tValidation Loss: 0.0791\n",
            "[Epoch 23]\tTrain Loss: 0.0615\tValidation Loss: 0.0828\n",
            "[Epoch 24]\tTrain Loss: 0.0621\tValidation Loss: 0.0912\n",
            "[Epoch 25]\tTrain Loss: 0.0642\tValidation Loss: 0.0814\n",
            "[Epoch 26]\tTrain Loss: 0.0625\tValidation Loss: 0.0874\n",
            "[Epoch 27]\tTrain Loss: 0.0621\tValidation Loss: 0.0836\n",
            "[Epoch 28]\tTrain Loss: 0.0577\tValidation Loss: 0.0837\n",
            "[Epoch 29]\tTrain Loss: 0.0584\tValidation Loss: 0.1039\n",
            "[Epoch 30]\tTrain Loss: 0.0589\tValidation Loss: 0.0833\n",
            "[Epoch 31]\tTrain Loss: 0.0620\tValidation Loss: 0.0874\n",
            "[Epoch 32]\tTrain Loss: 0.0577\tValidation Loss: 0.0839\n",
            "[Epoch 33]\tTrain Loss: 0.0608\tValidation Loss: 0.0940\n",
            "[Epoch 34]\tTrain Loss: 0.0563\tValidation Loss: 0.0883\n",
            "[Epoch 35]\tTrain Loss: 0.0565\tValidation Loss: 0.0869\n",
            "[Epoch 36]\tTrain Loss: 0.0572\tValidation Loss: 0.0865\n",
            "[Epoch 37]\tTrain Loss: 0.0553\tValidation Loss: 0.0823\n",
            "[Epoch 38]\tTrain Loss: 0.0500\tValidation Loss: 0.0882\n",
            "[Epoch 39]\tTrain Loss: 0.0551\tValidation Loss: 0.0940\n",
            "[Epoch 40]\tTrain Loss: 0.0572\tValidation Loss: 0.0957\n",
            "[Epoch 41]\tTrain Loss: 0.0543\tValidation Loss: 0.0862\n",
            "[Epoch 42]\tTrain Loss: 0.0554\tValidation Loss: 0.0892\n",
            "[Epoch 43]\tTrain Loss: 0.0530\tValidation Loss: 0.0926\n",
            "[Epoch 44]\tTrain Loss: 0.0495\tValidation Loss: 0.0920\n",
            "[Epoch 45]\tTrain Loss: 0.0536\tValidation Loss: 0.0990\n",
            "[Epoch 46]\tTrain Loss: 0.0474\tValidation Loss: 0.0968\n",
            "[Epoch 47]\tTrain Loss: 0.0532\tValidation Loss: 0.1049\n",
            "[Epoch 48]\tTrain Loss: 0.0560\tValidation Loss: 0.0902\n",
            "[Epoch 49]\tTrain Loss: 0.0542\tValidation Loss: 0.1066\n"
          ]
        }
      ],
      "source": [
        "num_epochs = 50\n",
        "\n",
        "train_loss_arr, val_loss_arr = np.zeros(num_epochs), np.zeros(num_epochs)\n",
        "for epoch in range(num_epochs):\n",
        "    train_loss, val_loss = 0, 0\n",
        "\n",
        "    model.train()\n",
        "    for data, label in train_loader:\n",
        "        optimizer.zero_grad()\n",
        "        output = model(data.to(device))\n",
        "        loss = criterion(output, label.to(device))\n",
        "        loss.backward()\n",
        "        optimizer.step()\n",
        "        # update running train loss \n",
        "        train_loss += loss.item() * len(data)\n",
        "  \n",
        "    model.eval()\n",
        "    for data, label in val_loader:\n",
        "        output = model(data.to(device))\n",
        "        loss = criterion(output, label.to(device))\n",
        "        # update running validation loss \n",
        "        val_loss += loss.item() * len(data)\n",
        "\n",
        "    train_loss /= len(train_loader.dataset)\n",
        "    val_loss /= len(val_loader.dataset)\n",
        "    train_loss_arr[epoch] = train_loss\n",
        "    val_loss_arr[epoch] = val_loss\n",
        "\n",
        "    print(f\"[Epoch {epoch}]\\t\"\n",
        "        f\"Train Loss: {train_loss:.4f}\\t\"\n",
        "        f\"Validation Loss: {val_loss:.4f}\")"
      ]
    },
    {
      "cell_type": "markdown",
      "metadata": {
        "id": "oe3KbjZG2mNd"
      },
      "source": [
        "#### Plot train/validation loss"
      ]
    },
    {
      "cell_type": "code",
      "execution_count": 55,
      "metadata": {
        "colab": {
          "base_uri": "https://localhost:8080/",
          "height": 299
        },
        "id": "nNwH8WMy2qmr",
        "outputId": "bdd30362-2ddd-4005-fb23-9537531e1701"
      },
      "outputs": [
        {
          "data": {
            "image/png": "[encoded data removed]",
            "text/plain": [
              "<Figure size 432x288 with 2 Axes>"
            ]
          },
          "metadata": {
            "needs_background": "light"
          },
          "output_type": "display_data"
        }
      ],
      "source": [
        "fig, (ax1, ax2) = plt.subplots(2)\n",
        "ax1.plot(range(1, num_epochs + 1), train_loss_arr)\n",
        "ax1.set_title('Training Loss')\n",
        "ax1.set(xlabel='epoch number', ylabel='loss')\n",
        "ax2.plot(range(1, num_epochs + 1), val_loss_arr)\n",
        "ax2.set_title('Validation Loss')\n",
        "ax2.set(xlabel='epoch number', ylabel='loss')\n",
        "plt.tight_layout(1)"
      ]
    },
    {
      "cell_type": "markdown",
      "metadata": {
        "id": "AKsD6NhU2w71"
      },
      "source": [
        "### Evaluation"
      ]
    },
    {
      "cell_type": "markdown",
      "metadata": {
        "id": "oZcXJuWX255T"
      },
      "source": [
        "Evaluate your model on test set. you have to report both loss and accuracy.\n",
        "\n",
        "In order to get the full score of this section, you need to achieve an accuracy above $95\\%$ and to get the extra points, your accuracy should be above $98\\%$ \n",
        "\n",
        "**Notice:** You should use test set only for evaluation of your model."
      ]
    },
    {
      "cell_type": "code",
      "execution_count": 56,
      "metadata": {
        "colab": {
          "base_uri": "https://localhost:8080/"
        },
        "id": "bl4bsjhg2xMo",
        "outputId": "8c267592-8dba-45a0-f45d-3c4451ad5ef9"
      },
      "outputs": [
        {
          "name": "stdout",
          "output_type": "stream",
          "text": [
            "Achived accuracy: 98.17\n",
            "Loss value: 0.10622912645339966\n"
          ]
        }
      ],
      "source": [
        "model.eval()\n",
        "prediction = []\n",
        "test_loss = 0\n",
        "for data, label in test_loader:\n",
        "    output = model(data.to(device))\n",
        "    prediction.extend(torch.argmax(output, dim=1).cpu().numpy())\n",
        "    loss = criterion(output, label.to(device))\n",
        "    test_loss += loss.item() * len(data)\n",
        "test_loss /= len(test_loader.dataset)\n",
        "prediction = np.array(prediction)\n",
        "classified = prediction == label.numpy()\n",
        "accuracy = sum(classified) / len(label)\n",
        "print(f'Achived accuracy: {accuracy * 100:.2f}\\nLoss value: {test_loss}')"
      ]
    },
    {
      "cell_type": "markdown",
      "metadata": {
        "id": "w4eZsFnV3rTi"
      },
      "source": [
        "### Visualization of wrong prediction"
      ]
    },
    {
      "cell_type": "markdown",
      "metadata": {
        "id": "y9jvB_lZ3uqx"
      },
      "source": [
        "Visualize $8$ samples (along with original label and model's prediction) from test set which are labeled wrong by your model"
      ]
    },
    {
      "cell_type": "code",
      "execution_count": 57,
      "metadata": {
        "colab": {
          "base_uri": "https://localhost:8080/",
          "height": 385
        },
        "id": "8rLlhJvE4IjZ",
        "outputId": "e2df54ac-8931-485a-957e-bc2b142248ec"
      },
      "outputs": [
        {
          "data": {
            "image/png": "[encoded data removed]",
            "text/plain": [
              "<Figure size 720x360 with 8 Axes>"
            ]
          },
          "metadata": {},
          "output_type": "display_data"
        }
      ],
      "source": [
        "fig, axes = plt.subplots(4, 2, figsize=(10, 5), constrained_layout=True)\n",
        "misclassified = ~classified\n",
        "data = test_dataset.data[misclassified][:8]\n",
        "labels = test_dataset.targets[misclassified][:8]\n",
        "predicted = prediction[misclassified][:8]\n",
        "for img, label, p, ax in zip(data, labels, predicted, axes.flat):\n",
        "    ax.imshow(img.squeeze(), cmap='gray')\n",
        "    ax.set_xticks([])\n",
        "    ax.set_yticks([])\n",
        "    ax.set_title(f'Actual: {label.item()}, Predicted: {p}')"
      ]
    }
  ],
  "metadata": {
    "accelerator": "GPU",
    "colab": {
      "collapsed_sections": [],
      "name": "Q2.ipynb",
      "provenance": []
    },
    "interpreter": {
      "hash": "f336af7d54ba0f0c1daaf2256eb85f31e983e88153daf7a27ef3ea6c724faba4"
    },
    "kernelspec": {
      "display_name": "Python 3 (ipykernel)",
      "language": "python",
      "name": "python3"
    },
    "language_info": {
      "codemirror_mode": {
        "name": "ipython",
        "version": 3
      },
      "file_extension": ".py",
      "mimetype": "text/x-python",
      "name": "python",
      "nbconvert_exporter": "python",
      "pygments_lexer": "ipython3",
      "version": "3.9.7"
    }
  },
  "nbformat": 4,
  "nbformat_minor": 0
}
